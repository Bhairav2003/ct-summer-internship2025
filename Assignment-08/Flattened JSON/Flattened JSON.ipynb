{
 "cells": [
  {
   "cell_type": "markdown",
   "metadata": {
    "application/vnd.databricks.v1+cell": {
     "cellMetadata": {},
     "inputWidgets": {},
     "nuid": "7600aad6-c38f-4f7e-929d-b653dc3f051c",
     "showTitle": false,
     "tableResultSettingsMap": {},
     "title": ""
    }
   },
   "source": [
    "### 1.Read the uploaded JSON file\n"
   ]
  },
  {
   "cell_type": "code",
   "execution_count": 0,
   "metadata": {
    "application/vnd.databricks.v1+cell": {
     "cellMetadata": {
      "byteLimit": 2048000,
      "rowLimit": 10000
     },
     "inputWidgets": {},
     "nuid": "17039e06-ad90-4575-a326-95d84374729f",
     "showTitle": false,
     "tableResultSettingsMap": {},
     "title": ""
    }
   },
   "outputs": [
    {
     "output_type": "stream",
     "name": "stdout",
     "output_type": "stream",
     "text": [
      "root\n |-- records: array (nullable = true)\n |    |-- element: struct (containsNull = true)\n |    |    |-- id: string (nullable = true)\n |    |    |-- location: struct (nullable = true)\n |    |    |    |-- city: string (nullable = true)\n |    |    |    |-- zip: string (nullable = true)\n |    |    |-- name: string (nullable = true)\n |    |    |-- purchases: array (nullable = true)\n |    |    |    |-- element: struct (containsNull = true)\n |    |    |    |    |-- item: string (nullable = true)\n |    |    |    |    |-- price: long (nullable = true)\n\n"
     ]
    },
    {
     "output_type": "display_data",
     "data": {
      "text/html": [
       "<style scoped>\n",
       "  .table-result-container {\n",
       "    max-height: 300px;\n",
       "    overflow: auto;\n",
       "  }\n",
       "  table, th, td {\n",
       "    border: 1px solid black;\n",
       "    border-collapse: collapse;\n",
       "  }\n",
       "  th, td {\n",
       "    padding: 5px;\n",
       "  }\n",
       "  th {\n",
       "    text-align: left;\n",
       "  }\n",
       "</style><div class='table-result-container'><table class='table-result'><thead style='background-color: white'><tr><th>records</th></tr></thead><tbody><tr><td>List(List(001, List(New York, 10001), Alice, List(List(Book, 20), List(Pen, 5))), List(002, List(Chicago, 60601), Bob, List(List(Notebook, 10))), List(003, List(Los Angeles, 90001), Charlie, List(List(Laptop, 900), List(Mouse, 25))), List(004, List(Houston, 77001), Diana, List(List(Bag, 50))), List(005, List(Phoenix, 85001), Ethan, List(List(Chair, 100), List(Desk, 200))), List(006, List(Philadelphia, 19101), Fiona, List(List(Monitor, 300))), List(007, List(San Antonio, 78201), George, List(List(Phone, 600), List(Charger, 20))), List(008, List(San Diego, 92101), Hannah, List(List(Keyboard, 75))), List(009, List(Dallas, 75201), Ian, List(List(Tablet, 400))), List(010, List(San Jose, 95101), Julia, List(List(Camera, 700), List(Tripod, 80))))</td></tr></tbody></table></div>"
      ]
     },
     "metadata": {
      "application/vnd.databricks.v1+output": {
       "addedWidgets": {},
       "aggData": [],
       "aggError": "",
       "aggOverflow": false,
       "aggSchema": [],
       "aggSeriesLimitReached": false,
       "aggType": "",
       "arguments": {},
       "columnCustomDisplayInfos": {},
       "data": [
        [
         [
          [
           "001",
           [
            "New York",
            "10001"
           ],
           "Alice",
           [
            [
             "Book",
             20
            ],
            [
             "Pen",
             5
            ]
           ]
          ],
          [
           "002",
           [
            "Chicago",
            "60601"
           ],
           "Bob",
           [
            [
             "Notebook",
             10
            ]
           ]
          ],
          [
           "003",
           [
            "Los Angeles",
            "90001"
           ],
           "Charlie",
           [
            [
             "Laptop",
             900
            ],
            [
             "Mouse",
             25
            ]
           ]
          ],
          [
           "004",
           [
            "Houston",
            "77001"
           ],
           "Diana",
           [
            [
             "Bag",
             50
            ]
           ]
          ],
          [
           "005",
           [
            "Phoenix",
            "85001"
           ],
           "Ethan",
           [
            [
             "Chair",
             100
            ],
            [
             "Desk",
             200
            ]
           ]
          ],
          [
           "006",
           [
            "Philadelphia",
            "19101"
           ],
           "Fiona",
           [
            [
             "Monitor",
             300
            ]
           ]
          ],
          [
           "007",
           [
            "San Antonio",
            "78201"
           ],
           "George",
           [
            [
             "Phone",
             600
            ],
            [
             "Charger",
             20
            ]
           ]
          ],
          [
           "008",
           [
            "San Diego",
            "92101"
           ],
           "Hannah",
           [
            [
             "Keyboard",
             75
            ]
           ]
          ],
          [
           "009",
           [
            "Dallas",
            "75201"
           ],
           "Ian",
           [
            [
             "Tablet",
             400
            ]
           ]
          ],
          [
           "010",
           [
            "San Jose",
            "95101"
           ],
           "Julia",
           [
            [
             "Camera",
             700
            ],
            [
             "Tripod",
             80
            ]
           ]
          ]
         ]
        ]
       ],
       "datasetInfos": [],
       "dbfsResultPath": null,
       "isJsonSchema": true,
       "metadata": {},
       "overflow": false,
       "plotOptions": {
        "customPlotOptions": {},
        "displayType": "table",
        "pivotAggregation": null,
        "pivotColumns": null,
        "xColumns": null,
        "yColumns": null
       },
       "removedWidgets": [],
       "schema": [
        {
         "metadata": "{}",
         "name": "records",
         "type": "{\"type\":\"array\",\"elementType\":{\"type\":\"struct\",\"fields\":[{\"name\":\"id\",\"type\":\"string\",\"nullable\":true,\"metadata\":{}},{\"name\":\"location\",\"type\":{\"type\":\"struct\",\"fields\":[{\"name\":\"city\",\"type\":\"string\",\"nullable\":true,\"metadata\":{}},{\"name\":\"zip\",\"type\":\"string\",\"nullable\":true,\"metadata\":{}}]},\"nullable\":true,\"metadata\":{}},{\"name\":\"name\",\"type\":\"string\",\"nullable\":true,\"metadata\":{}},{\"name\":\"purchases\",\"type\":{\"type\":\"array\",\"elementType\":{\"type\":\"struct\",\"fields\":[{\"name\":\"item\",\"type\":\"string\",\"nullable\":true,\"metadata\":{}},{\"name\":\"price\",\"type\":\"long\",\"nullable\":true,\"metadata\":{}}]},\"containsNull\":true},\"nullable\":true,\"metadata\":{}}]},\"containsNull\":true}"
        }
       ],
       "type": "table"
      }
     },
     "output_type": "display_data"
    }
   ],
   "source": [
    "df_raw = spark.read.option(\"multiline\", True).json(\"/FileStore/tables/sample_data.json\")\n",
    "df_raw.printSchema()\n",
    "df_raw.display()"
   ]
  },
  {
   "cell_type": "markdown",
   "metadata": {
    "application/vnd.databricks.v1+cell": {
     "cellMetadata": {},
     "inputWidgets": {},
     "nuid": "e3da4788-aaac-488a-bdc7-6bc48fa38916",
     "showTitle": false,
     "tableResultSettingsMap": {},
     "title": ""
    }
   },
   "source": [
    "### 2. Flatten JSON Fields"
   ]
  },
  {
   "cell_type": "code",
   "execution_count": 0,
   "metadata": {
    "application/vnd.databricks.v1+cell": {
     "cellMetadata": {
      "byteLimit": 2048000,
      "rowLimit": 10000
     },
     "inputWidgets": {},
     "nuid": "69959fc1-73b3-4794-a4ff-df205a2c4dcf",
     "showTitle": false,
     "tableResultSettingsMap": {},
     "title": ""
    }
   },
   "outputs": [
    {
     "output_type": "display_data",
     "data": {
      "text/html": [
       "<style scoped>\n",
       "  .table-result-container {\n",
       "    max-height: 300px;\n",
       "    overflow: auto;\n",
       "  }\n",
       "  table, th, td {\n",
       "    border: 1px solid black;\n",
       "    border-collapse: collapse;\n",
       "  }\n",
       "  th, td {\n",
       "    padding: 5px;\n",
       "  }\n",
       "  th {\n",
       "    text-align: left;\n",
       "  }\n",
       "</style><div class='table-result-container'><table class='table-result'><thead style='background-color: white'><tr><th>id</th><th>name</th><th>city</th><th>zip</th><th>item</th><th>price</th></tr></thead><tbody><tr><td>001</td><td>Alice</td><td>New York</td><td>10001</td><td>Book</td><td>20</td></tr><tr><td>001</td><td>Alice</td><td>New York</td><td>10001</td><td>Pen</td><td>5</td></tr><tr><td>002</td><td>Bob</td><td>Chicago</td><td>60601</td><td>Notebook</td><td>10</td></tr><tr><td>003</td><td>Charlie</td><td>Los Angeles</td><td>90001</td><td>Laptop</td><td>900</td></tr><tr><td>003</td><td>Charlie</td><td>Los Angeles</td><td>90001</td><td>Mouse</td><td>25</td></tr><tr><td>004</td><td>Diana</td><td>Houston</td><td>77001</td><td>Bag</td><td>50</td></tr><tr><td>005</td><td>Ethan</td><td>Phoenix</td><td>85001</td><td>Chair</td><td>100</td></tr><tr><td>005</td><td>Ethan</td><td>Phoenix</td><td>85001</td><td>Desk</td><td>200</td></tr><tr><td>006</td><td>Fiona</td><td>Philadelphia</td><td>19101</td><td>Monitor</td><td>300</td></tr><tr><td>007</td><td>George</td><td>San Antonio</td><td>78201</td><td>Phone</td><td>600</td></tr><tr><td>007</td><td>George</td><td>San Antonio</td><td>78201</td><td>Charger</td><td>20</td></tr><tr><td>008</td><td>Hannah</td><td>San Diego</td><td>92101</td><td>Keyboard</td><td>75</td></tr><tr><td>009</td><td>Ian</td><td>Dallas</td><td>75201</td><td>Tablet</td><td>400</td></tr><tr><td>010</td><td>Julia</td><td>San Jose</td><td>95101</td><td>Camera</td><td>700</td></tr><tr><td>010</td><td>Julia</td><td>San Jose</td><td>95101</td><td>Tripod</td><td>80</td></tr></tbody></table></div>"
      ]
     },
     "metadata": {
      "application/vnd.databricks.v1+output": {
       "addedWidgets": {},
       "aggData": [],
       "aggError": "",
       "aggOverflow": false,
       "aggSchema": [],
       "aggSeriesLimitReached": false,
       "aggType": "",
       "arguments": {},
       "columnCustomDisplayInfos": {},
       "data": [
        [
         "001",
         "Alice",
         "New York",
         "10001",
         "Book",
         20
        ],
        [
         "001",
         "Alice",
         "New York",
         "10001",
         "Pen",
         5
        ],
        [
         "002",
         "Bob",
         "Chicago",
         "60601",
         "Notebook",
         10
        ],
        [
         "003",
         "Charlie",
         "Los Angeles",
         "90001",
         "Laptop",
         900
        ],
        [
         "003",
         "Charlie",
         "Los Angeles",
         "90001",
         "Mouse",
         25
        ],
        [
         "004",
         "Diana",
         "Houston",
         "77001",
         "Bag",
         50
        ],
        [
         "005",
         "Ethan",
         "Phoenix",
         "85001",
         "Chair",
         100
        ],
        [
         "005",
         "Ethan",
         "Phoenix",
         "85001",
         "Desk",
         200
        ],
        [
         "006",
         "Fiona",
         "Philadelphia",
         "19101",
         "Monitor",
         300
        ],
        [
         "007",
         "George",
         "San Antonio",
         "78201",
         "Phone",
         600
        ],
        [
         "007",
         "George",
         "San Antonio",
         "78201",
         "Charger",
         20
        ],
        [
         "008",
         "Hannah",
         "San Diego",
         "92101",
         "Keyboard",
         75
        ],
        [
         "009",
         "Ian",
         "Dallas",
         "75201",
         "Tablet",
         400
        ],
        [
         "010",
         "Julia",
         "San Jose",
         "95101",
         "Camera",
         700
        ],
        [
         "010",
         "Julia",
         "San Jose",
         "95101",
         "Tripod",
         80
        ]
       ],
       "datasetInfos": [],
       "dbfsResultPath": null,
       "isJsonSchema": true,
       "metadata": {},
       "overflow": false,
       "plotOptions": {
        "customPlotOptions": {},
        "displayType": "table",
        "pivotAggregation": null,
        "pivotColumns": null,
        "xColumns": null,
        "yColumns": null
       },
       "removedWidgets": [],
       "schema": [
        {
         "metadata": "{}",
         "name": "id",
         "type": "\"string\""
        },
        {
         "metadata": "{}",
         "name": "name",
         "type": "\"string\""
        },
        {
         "metadata": "{}",
         "name": "city",
         "type": "\"string\""
        },
        {
         "metadata": "{}",
         "name": "zip",
         "type": "\"string\""
        },
        {
         "metadata": "{}",
         "name": "item",
         "type": "\"string\""
        },
        {
         "metadata": "{}",
         "name": "price",
         "type": "\"long\""
        }
       ],
       "type": "table"
      }
     },
     "output_type": "display_data"
    }
   ],
   "source": [
    "from pyspark.sql.functions import *\n",
    "\n",
    "# Explode the records array\n",
    "df_flat = df_raw.select(explode(col(\"records\")).alias(\"record\"))\n",
    "\n",
    "# Flatten nested fields\n",
    "df_flattened = df_flat.select(\n",
    "    col(\"record.id\").alias(\"id\"),\n",
    "    col(\"record.name\").alias(\"name\"),\n",
    "    col(\"record.location.city\").alias(\"city\"),\n",
    "    col(\"record.location.zip\").alias(\"zip\"),\n",
    "    explode(col(\"record.purchases\")).alias(\"purchase\")\n",
    ").select(\n",
    "    \"id\", \"name\", \"city\", \"zip\",\n",
    "    col(\"purchase.item\").alias(\"item\"),\n",
    "    col(\"purchase.price\").alias(\"price\")\n",
    ")\n",
    "\n",
    "df_flattened.display()"
   ]
  },
  {
   "cell_type": "markdown",
   "metadata": {
    "application/vnd.databricks.v1+cell": {
     "cellMetadata": {},
     "inputWidgets": {},
     "nuid": "0a905e51-ef70-4fdc-9df9-64c1b067491a",
     "showTitle": false,
     "tableResultSettingsMap": {},
     "title": ""
    }
   },
   "source": [
    "### 3. Write flattened file as external parquet table"
   ]
  },
  {
   "cell_type": "code",
   "execution_count": 0,
   "metadata": {
    "application/vnd.databricks.v1+cell": {
     "cellMetadata": {
      "byteLimit": 2048000,
      "rowLimit": 10000
     },
     "inputWidgets": {},
     "nuid": "0daa223d-c5e4-414c-b04d-108147099f45",
     "showTitle": false,
     "tableResultSettingsMap": {},
     "title": ""
    }
   },
   "outputs": [
    {
     "output_type": "stream",
     "name": "stdout",
     "output_type": "stream",
     "text": [
      "+---+-------+------------+-----+--------+-----+\n| id|   name|        city|  zip|    item|price|\n+---+-------+------------+-----+--------+-----+\n|001|  Alice|    New York|10001|    Book|   20|\n|001|  Alice|    New York|10001|     Pen|    5|\n|002|    Bob|     Chicago|60601|Notebook|   10|\n|003|Charlie| Los Angeles|90001|  Laptop|  900|\n|003|Charlie| Los Angeles|90001|   Mouse|   25|\n|004|  Diana|     Houston|77001|     Bag|   50|\n|005|  Ethan|     Phoenix|85001|   Chair|  100|\n|005|  Ethan|     Phoenix|85001|    Desk|  200|\n|006|  Fiona|Philadelphia|19101| Monitor|  300|\n|007| George| San Antonio|78201|   Phone|  600|\n|007| George| San Antonio|78201| Charger|   20|\n|008| Hannah|   San Diego|92101|Keyboard|   75|\n|009|    Ian|      Dallas|75201|  Tablet|  400|\n|010|  Julia|    San Jose|95101|  Camera|  700|\n|010|  Julia|    San Jose|95101|  Tripod|   80|\n+---+-------+------------+-----+--------+-----+\n\n"
     ]
    }
   ],
   "source": [
    "# Save as parquet\n",
    "df_flattened.write.mode(\"overwrite\").parquet(\"/FileStore/flattened_data\")\n",
    "\n",
    "# Register as external table\n",
    "spark.sql(\"\"\"\n",
    "CREATE TABLE IF NOT EXISTS flattened_data_table\n",
    "USING PARQUET\n",
    "LOCATION '/FileStore/flattened_data'\n",
    "\"\"\")\n",
    "\n",
    "# Run in a SQL cell\n",
    "spark.sql(\"REFRESH TABLE flattened_data_table\")\n",
    "spark.sql(\"SELECT * FROM flattened_data_table\").show()\n"
   ]
  }
 ],
 "metadata": {
  "application/vnd.databricks.v1+notebook": {
   "computePreferences": null,
   "dashboards": [],
   "environmentMetadata": {
    "base_environment": "",
    "environment_version": "2"
   },
   "inputWidgetPreferences": null,
   "language": "python",
   "notebookMetadata": {
    "mostRecentlyExecutedCommandWithImplicitDF": {
     "commandId": 6165533223811710,
     "dataframes": [
      "_sqldf"
     ]
    },
    "pythonIndentUnit": 4
   },
   "notebookName": "Flattened JSON",
   "widgets": {}
  },
  "language_info": {
   "name": "python"
  }
 },
 "nbformat": 4,
 "nbformat_minor": 0
}